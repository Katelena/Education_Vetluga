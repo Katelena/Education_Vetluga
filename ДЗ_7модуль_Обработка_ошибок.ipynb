{
 "cells": [
  {
   "cell_type": "markdown",
   "id": "cfbd4e4b",
   "metadata": {},
   "source": [
    "### Домашнее задание к лекции «Исключения и обработка ошибок»"
   ]
  },
  {
   "cell_type": "markdown",
   "id": "86a51a2e",
   "metadata": {},
   "source": [
    "#### Задание 1\n",
    "Печатные газеты использовали свой формат дат для каждого выпуска. Для каждой газеты из списка напишите формат указанной даты для перевода в объект datetime:\n",
    "The Moscow Times - Wednesday, October 2, 2002\n",
    "The Guardian - Friday, 11.10.13\n",
    "Daily News - Thursday, 18 August 1977\n",
    " "
   ]
  },
  {
   "cell_type": "code",
   "execution_count": 83,
   "id": "5369efcc",
   "metadata": {},
   "outputs": [],
   "source": [
    "from datetime import datetime\n",
    "from datetime import timedelta"
   ]
  },
  {
   "cell_type": "code",
   "execution_count": 84,
   "id": "31ddfa5e",
   "metadata": {},
   "outputs": [],
   "source": [
    "The_Moscow_Times = 'Wednesday, October 2, 2002'"
   ]
  },
  {
   "cell_type": "code",
   "execution_count": 85,
   "id": "43fd4355",
   "metadata": {},
   "outputs": [
    {
     "data": {
      "text/plain": [
       "datetime.datetime(2002, 10, 2, 0, 0)"
      ]
     },
     "execution_count": 85,
     "metadata": {},
     "output_type": "execute_result"
    }
   ],
   "source": [
    "datetime.strptime(The_Moscow_Times, '%A, %B %d, %Y') # переводим в формат datetime"
   ]
  },
  {
   "cell_type": "code",
   "execution_count": 86,
   "id": "c9dcda08",
   "metadata": {},
   "outputs": [],
   "source": [
    "The_Guardian = 'Friday, 11.10.13'"
   ]
  },
  {
   "cell_type": "code",
   "execution_count": 87,
   "id": "359042e7",
   "metadata": {},
   "outputs": [
    {
     "data": {
      "text/plain": [
       "datetime.datetime(2013, 11, 10, 0, 0)"
      ]
     },
     "execution_count": 87,
     "metadata": {},
     "output_type": "execute_result"
    }
   ],
   "source": [
    "datetime.strptime(The_Guardian, '%A, %m.%d.%y')"
   ]
  },
  {
   "cell_type": "code",
   "execution_count": 88,
   "id": "08ec61bb",
   "metadata": {},
   "outputs": [],
   "source": [
    "Daily_News = 'Thursday, 18 August 1977'"
   ]
  },
  {
   "cell_type": "code",
   "execution_count": 89,
   "id": "2d261ed7",
   "metadata": {},
   "outputs": [
    {
     "data": {
      "text/plain": [
       "datetime.datetime(1977, 8, 18, 0, 0)"
      ]
     },
     "execution_count": 89,
     "metadata": {},
     "output_type": "execute_result"
    }
   ],
   "source": [
    "datetime.strptime(Daily_News, '%A, %d %B %Y')"
   ]
  },
  {
   "cell_type": "markdown",
   "id": "40cdc83e",
   "metadata": {},
   "source": [
    "#### Задание 2\n",
    "Дан поток дат в формате YYYY-MM-DD, в которых встречаются некорректные значения:\n",
    "stream = [‘2018-04-02’, ‘2018-02-29’, ‘2018-19-02’]\n",
    "Напишите функцию, которая проверяет эти даты на корректность. Т. е. для каждой даты возвращает True (дата корректна) или False (некорректная дата).\n"
   ]
  },
  {
   "cell_type": "code",
   "execution_count": 90,
   "id": "9bcc82c5",
   "metadata": {},
   "outputs": [],
   "source": [
    "from datetime import datetime # загружаем нужную библиотеку для работы с датами"
   ]
  },
  {
   "cell_type": "code",
   "execution_count": 91,
   "id": "30314aed",
   "metadata": {},
   "outputs": [],
   "source": [
    "stream = ['2018-04-02', '2018-02-29', '2018-19-02'] "
   ]
  },
  {
   "cell_type": "code",
   "execution_count": 92,
   "id": "8d4db722",
   "metadata": {},
   "outputs": [
    {
     "name": "stdout",
     "output_type": "stream",
     "text": [
      "Дата \"2018-04-02\" корректная: True\n",
      "Дата \"2018-02-29\" некорректная: False\n",
      "Дата \"2018-19-02\" некорректная: False\n"
     ]
    }
   ],
   "source": [
    "def correct_date(dt): # объявляем функцию\n",
    "    try:\n",
    "        datetime.strptime(dt, '%Y-%m-%d') # аргумент функции переводим в нужный формат\n",
    "        return print('Дата \"{}\" корректная: {}'.format(dt, True)) # если все получилось, выводим соответсвующее сообщениеи True  \n",
    "    except ValueError:                    # если не получилось, выводим соответствующее сообщение и false\n",
    "        return print('Дата \"{}\" некорректная: {}'.format(dt, False))\n",
    "            \n",
    "for line in stream: # прогоняем каждый элемент списка через функцию\n",
    "    correct_date(line)"
   ]
  },
  {
   "cell_type": "markdown",
   "id": "a3e2e113",
   "metadata": {},
   "source": [
    "####  Задание 3\n",
    "Напишите функцию date_range, которая возвращает список дат за период от start_date до end_date. Даты должны вводиться в формате YYYY-MM-DD. В случае неверного формата или при start_date > end_date должен возвращаться пустой список."
   ]
  },
  {
   "cell_type": "code",
   "execution_count": 94,
   "id": "ab6d2164",
   "metadata": {},
   "outputs": [
    {
     "name": "stdout",
     "output_type": "stream",
     "text": [
      "Введите стартовую дату в формате 'YYYY-MM-DD': 2022-03-07\n",
      "Введите конечную дату в 'YYYY-MM-DD': 2022-01-29\n",
      "Стартовая дата больше конечной\n"
     ]
    },
    {
     "data": {
      "text/plain": [
       "[]"
      ]
     },
     "execution_count": 94,
     "metadata": {},
     "output_type": "execute_result"
    }
   ],
   "source": [
    "start_date = input(\"Введите стартовую дату в формате 'YYYY-MM-DD': \")\n",
    "end_date = input(\"Введите конечную дату в 'YYYY-MM-DD': \")\n",
    "\n",
    "def date_range(start_date, end_date):\n",
    "    date_list = []\n",
    "    try:\n",
    "        dt_start_date = datetime.strptime(start_date, '%Y-%m-%d') # перевели дату из формата строки в формат datetime\n",
    "        dt_end_date = datetime.strptime(end_date, '%Y-%m-%d')\n",
    "    \n",
    "        if dt_start_date < dt_end_date: # прописали условие для вывода списка требуемых дат\n",
    "            required_date = dt_start_date # ввели переменную для перебора дат, начиная со стартовой\n",
    "            while required_date <= dt_end_date: # перебор дат и добавление их с список до момента достижения конечной даты\n",
    "                date_list.append(required_date.strftime('%Y-%m-%d'))\n",
    "                \n",
    "                required_date += timedelta(days=1)\n",
    "            \n",
    "            return date_list\n",
    "        \n",
    "        else:\n",
    "            print(\"Стартовая дата больше конечной\") # если стартовая дата больше конечной, выводим соответствующее сообщение\n",
    "            return date_list # понятное дело, список требуемых дат будет пуст\n",
    "    \n",
    "    except:\n",
    "        print(\"Неверный формат даты\") # если все предыдущее не свершидлсь, то это значит, что даты вообще введены некорректно\n",
    "        return date_list # выводим соответствующее сообщение и список пуст\n",
    "    \n",
    "date_range(start_date, end_date)"
   ]
  },
  {
   "cell_type": "markdown",
   "id": "9b63e203",
   "metadata": {},
   "source": [
    "#### Задание 4 (бонусное)\n",
    "Ваш коллега прислал код функции:\n",
    "\n",
    "DEFAULT_USER_COUNT = 3\n",
    "\n",
    "def delete_and_return_last_user(region, default_list=[‘A100’, ‘A101’, ‘A102’]):\n",
    "\n",
    "\"\"“\n",
    "Удаляет из списка default_list последнего пользователя\n",
    "и возвращает ID нового последнего пользователя.\n",
    "”\"\"\n",
    "\n",
    "element_to_delete = default_list[-1]\n",
    "\n",
    "default_list.remove(element_to_delete)\n",
    "\n",
    "1\n",
    "return default_list[DEFAULT_USER_COUNT-2]\n",
    "\n",
    "При однократном вызове этой функции все работает корректно:\n",
    "delete_and_return_last_user(1)\n",
    "‘A101’\n",
    "\n",
    "Однако, при повторном вызове получается ошибка IndexError: list index out of range.\n",
    "\n",
    "Задание:\n",
    "\n",
    "Что значит ошибка list index out of range?\n",
    "Почему при первом запуске функция работает корректно, а при втором - нет?"
   ]
  },
  {
   "cell_type": "markdown",
   "id": "098bb498",
   "metadata": {},
   "source": [
    "Ошибка list index out of range означает, что индекс списка вне диапазона. При первом запуске удаляется 'A102', но элемент с индексом [1] присутствует, это 'A101'. При втором запуске удаляется 'A101', и остается только элемент с индексом [0]. "
   ]
  }
 ],
 "metadata": {
  "kernelspec": {
   "display_name": "Python 3 (ipykernel)",
   "language": "python",
   "name": "python3"
  },
  "language_info": {
   "codemirror_mode": {
    "name": "ipython",
    "version": 3
   },
   "file_extension": ".py",
   "mimetype": "text/x-python",
   "name": "python",
   "nbconvert_exporter": "python",
   "pygments_lexer": "ipython3",
   "version": "3.9.7"
  }
 },
 "nbformat": 4,
 "nbformat_minor": 5
}
