{
 "cells": [
  {
   "cell_type": "markdown",
   "id": "8e1e7f8a",
   "metadata": {},
   "source": [
    "### Домашнее задание к лекции «Работа с файловой системой и модули»"
   ]
  },
  {
   "cell_type": "markdown",
   "id": "0824d030",
   "metadata": {},
   "source": [
    "#### Задание 1.  \n",
    "Переведите содержимое файла purchase_log.txt в словарь purchasesвида:\n",
    "{‘1840e0b9d4’: ‘Продукты’, …}"
   ]
  },
  {
   "cell_type": "markdown",
   "id": "4d24f5cf",
   "metadata": {},
   "source": [
    "#### Задание 2.\n",
    "Для каждого user_id в файле visit_log.csv определите третий столбец с категорией покупки (если покупка была, сам файл visit_log.csv изменять не надо). Запишите в файл funnel.csv визиты из файла visit_log.csv, в которых были покупки с указанием категории. Учтите условия на данные: содержимое purchase_log.txt помещается в оперативную память компьютера содержимое visit_log.csv - нет; используйте только построчную обработку этого файла"
   ]
  },
  {
   "cell_type": "code",
   "execution_count": 141,
   "id": "f039cf6c",
   "metadata": {},
   "outputs": [],
   "source": [
    "f = open('purchase_log.txt', 'r', encoding='utf-8') # Готовим к чтению файл purchase_log.txt\n"
   ]
  },
  {
   "cell_type": "code",
   "execution_count": 142,
   "id": "f6408791",
   "metadata": {},
   "outputs": [],
   "source": [
    "import json  # Импортируем json для чтения словаря"
   ]
  },
  {
   "cell_type": "code",
   "execution_count": 143,
   "id": "5a3f1368",
   "metadata": {},
   "outputs": [],
   "source": [
    "import pickle # Импортируем pickle для записи в файл как поток байтов"
   ]
  },
  {
   "cell_type": "code",
   "execution_count": 144,
   "id": "eccfc972",
   "metadata": {},
   "outputs": [
    {
     "data": {
      "text/plain": [
       "0"
      ]
     },
     "execution_count": 144,
     "metadata": {},
     "output_type": "execute_result"
    }
   ],
   "source": [
    "f.seek(0)  # курсор в читаемом файле устанавливаем в начало"
   ]
  },
  {
   "cell_type": "code",
   "execution_count": 145,
   "id": "f51e000a",
   "metadata": {},
   "outputs": [],
   "source": [
    "purchases = {}   # Создаем новый словарь\n",
    "for pair in f:   # readline - читаем построчно; strip - удаляем переносы строки; values - достаем значения словаря; json.loads - читаем словарь;  \n",
    "    pair = list(json.loads(f.readline().strip()).values())  # list - формируем значения словаря в виде списка, так как при каждой итерации список из двух элементов,  \n",
    "    purchases[pair[0]] = pair[1]                            # первый объявляем ключом, второй - значением "
   ]
  },
  {
   "cell_type": "code",
   "execution_count": 146,
   "id": "dd150607",
   "metadata": {},
   "outputs": [],
   "source": [
    "with open('visit_log.csv', 'r') as vl: # открываем файл для чтения\n",
    "    with open('funnel.csv', 'a') as pr: # создаем и открываем файл для записи\n",
    "        for line in vl:                 # избавляемся от пробелов и переноса строки, создаем условие\n",
    "            line_vl = line.strip().split(',') \n",
    "            if line_vl[0] in purchases.keys(): # если первый элемент списка в перечне ключей словаря purchases,  \n",
    "                line_vl.append(purchases.get(line_vl[0])) # добавляем в список line_vl значение ключа line_vl[0]\n",
    "                line_vl_write = \",\".join(line_vl) + '\\n'  # конвертируем список в строку  \n",
    "                pr.write(line_vl_write) # записываем обработанный элемент итерации в файл\n",
    "                "
   ]
  },
  {
   "cell_type": "code",
   "execution_count": 148,
   "id": "724a62b5",
   "metadata": {},
   "outputs": [
    {
     "data": {
      "text/plain": [
       "'1840e0b9d4,other,Продукты\\n'"
      ]
     },
     "execution_count": 148,
     "metadata": {},
     "output_type": "execute_result"
    }
   ],
   "source": [
    "examination = open('funnel.csv', 'r')\n",
    "examination.readline()"
   ]
  }
 ],
 "metadata": {
  "kernelspec": {
   "display_name": "Python 3 (ipykernel)",
   "language": "python",
   "name": "python3"
  },
  "language_info": {
   "codemirror_mode": {
    "name": "ipython",
    "version": 3
   },
   "file_extension": ".py",
   "mimetype": "text/x-python",
   "name": "python",
   "nbconvert_exporter": "python",
   "pygments_lexer": "ipython3",
   "version": "3.9.7"
  }
 },
 "nbformat": 4,
 "nbformat_minor": 5
}
