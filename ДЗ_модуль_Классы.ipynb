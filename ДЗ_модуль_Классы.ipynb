{
 "cells": [
  {
   "cell_type": "markdown",
   "id": "52b20514",
   "metadata": {},
   "source": [
    "#### Задание 1\n",
    "Напишите функцию, которая возвращает название валюты (поле ‘Name’) с максимальным значением курса с помощью сервиса www.cbr-xml-daily.ru...ly_json.js\n"
   ]
  },
  {
   "cell_type": "code",
   "execution_count": 6,
   "id": "0a8f326d",
   "metadata": {},
   "outputs": [],
   "source": [
    "import requests\n",
    "import json\n",
    "\n",
    "def currency_with_the_highest_exchange_rate():\n",
    "    dict_ = {}\n",
    "    \n",
    "    data = requests.get('https://www.cbr-xml-daily.ru/daily_json.js').json()\n",
    "    \n",
    "    for element in data['Valute']:  \n",
    "        dict_[data['Valute'][element]['Name']] = data['Valute'][element]['Value']\n",
    "        \n",
    "    max_value = max(dict_.values())\n",
    "    \n",
    "    for key, values in dict_.items():\n",
    "        if values == max_value:\n",
    "            max_valute = key\n",
    "    \n",
    "    return max_valute, max_value\n"
   ]
  },
  {
   "cell_type": "code",
   "execution_count": 8,
   "id": "69a0506b",
   "metadata": {},
   "outputs": [
    {
     "name": "stdout",
     "output_type": "stream",
     "text": [
      "Валюта с максимальным курсом: СДР (специальные права заимствования) - курс: 116.4816\n"
     ]
    }
   ],
   "source": [
    "print('Валюта с максимальным курсом:', currency_with_the_highest_exchange_rate()[0], '- курс:', currency_with_the_highest_exchange_rate()[1])"
   ]
  },
  {
   "cell_type": "markdown",
   "id": "8263c95f",
   "metadata": {},
   "source": [
    "#### Задание 2\n",
    "Добавьте в класс Rate параметр diff (со значениями True или False), который в случае значения True в методах курсов валют (eur, usd и т.д.) будет возвращать не курс валюты, а изменение по сравнению в прошлым значением. Считайте, self.diff будет принимать значение True только при возврате значения курса. При отображении всей информации о валюте он не используется.\n"
   ]
  },
  {
   "cell_type": "code",
   "execution_count": 14,
   "id": "ba3a4884",
   "metadata": {},
   "outputs": [],
   "source": [
    "import requests\n",
    "class Rate:\n",
    "    def __init__(self, format_='value', diff = False):\n",
    "        self.format = format_\n",
    "        self.diff = diff  #Параметр изменения валюты, по умолчанию выключен\n",
    "    \n",
    "    def exchange_rates(self):\n",
    "        \"\"\"\n",
    "        Возвращает ответ сервиса с информацией о валютах в виде:\n",
    "        \n",
    "        {\n",
    "            'AMD': {\n",
    "                'CharCode': 'AMD',\n",
    "                'ID': 'R01060',\n",
    "                'Name': 'Армянских драмов',\n",
    "                'Nominal': 100,\n",
    "                'NumCode': '051',\n",
    "                'Previous': 14.103,\n",
    "                'Value': 14.0879\n",
    "                },\n",
    "            ...\n",
    "        }\n",
    "        \"\"\"\n",
    "        self.r = requests.get('https://www.cbr-xml-daily.ru/daily_json.js')\n",
    "        return self.r.json()['Valute']\n",
    "    \n",
    "    def make_format(self, currency):\n",
    "        \"\"\"\n",
    "        Возвращает информацию о валюте currency в двух вариантах:\n",
    "        - полная информация о валюте при self.format = 'full':\n",
    "        Rate('full').make_format('EUR')\n",
    "        {\n",
    "            'CharCode': 'EUR',\n",
    "            'ID': 'R01239',\n",
    "            'Name': 'Евро',\n",
    "            'Nominal': 1,\n",
    "            'NumCode': '978',\n",
    "            'Previous': 79.6765,\n",
    "            'Value': 79.4966\n",
    "        }\n",
    "        \n",
    "        Rate('value').make_format('EUR')\n",
    "        79.4966\n",
    "        \"\"\"\n",
    "        response = self.exchange_rates()\n",
    "        \n",
    "        if currency in response:\n",
    "            if self.format == 'full':\n",
    "                return response[currency]\n",
    "            \n",
    "            if self.format == 'value':\n",
    "                if self.diff == True:     # Проверка на добавленный параметр diff; если True, то выводит изменение курса\n",
    "                    return response[currency]['Value'] - response[currency]['Previous']\n",
    "                else:\n",
    "                    return response[currency]['Value']\n",
    "        \n",
    "        return 'Error'\n",
    "    \n",
    "    def eur(self):\n",
    "        \"\"\"Возвращает курс евро на сегодня в формате self.format\"\"\"\n",
    "        return self.make_format('EUR')\n",
    "    \n",
    "    def usd(self):\n",
    "        \"\"\"Возвращает курс доллара на сегодня в формате self.format\"\"\"\n",
    "        return self.make_format('USD')\n",
    "    \n",
    "    def brl(self):\n",
    "        \"\"\"Возвращает курс бразильского реала на сегодня в формате self.format\"\"\"\n",
    "        return self.make_format('BRL')\n",
    "    \n",
    "# если создать объект класса с параметрами format_='value', diff=True, то выведет разницу курсов валюты\n",
    "# если diff не указывать, то выведет курс валюты\n",
    "# если вообще ничего не указывать, то выведет всю информацию"
   ]
  },
  {
   "cell_type": "code",
   "execution_count": 21,
   "id": "ee4f3f2e",
   "metadata": {},
   "outputs": [
    {
     "name": "stdout",
     "output_type": "stream",
     "text": [
      "Изменение курса валюты EUR: -4.169399999999996\n"
     ]
    }
   ],
   "source": [
    "r = Rate(format_='value', diff=True)  \n",
    "print('Изменение курса валюты EUR:', r.eur())"
   ]
  },
  {
   "cell_type": "markdown",
   "id": "6eabc9f4",
   "metadata": {},
   "source": [
    "#### Задание 3\n",
    "Напишите класс Designer, который учитывает количество международных премий. Подсказки в коде занятия в разделе “Домашнее задание задача 3”.\n",
    "\n",
    "Комментарий по классу Designer такой:\n",
    "\n",
    "Напишите класс Designer, который учитывает количество международных премий для дизайнеров (из презентации: “Повышение на 1 грейд за каждые 7 баллов. Получение международной премии – это +2 балла”). Считайте, что при выходе на работу сотрудник уже имеет две премии и их количество не меняется со стажем (конечно если хотите это можно вручную менять).\n",
    "Класс Designer пишется по аналогии с классом Developer из материалов занятия. Комментарий про его условия Вика написала выше: “Повышение на 1 грейд за каждые 7 баллов. Получение международной премии – это +2 балла”\n"
   ]
  },
  {
   "cell_type": "code",
   "execution_count": 22,
   "id": "9e893c8b",
   "metadata": {},
   "outputs": [
    {
     "name": "stdout",
     "output_type": "stream",
     "text": [
      "Вывод результата класса в цикле для наглядности\n",
      "\n",
      "Александр -> грейд: 1 Кол-во баллов: 6\n",
      "Александр -> грейд: 2 Кол-во баллов: 8\n",
      "Александр -> грейд: 2 Кол-во баллов: 10\n",
      "Александр -> грейд: 2 Кол-во баллов: 12\n",
      "Александр -> грейд: 3 Кол-во баллов: 14\n",
      "Александр -> грейд: 3 Кол-во баллов: 16\n",
      "Александр -> грейд: 3 Кол-во баллов: 18\n",
      "Александр -> грейд: 3 Кол-во баллов: 20\n",
      "Александр -> грейд: 4 Кол-во баллов: 22\n",
      "Александр -> грейд: 4 Кол-во баллов: 24\n",
      "Александр -> грейд: 4 Кол-во баллов: 26\n",
      "Александр -> грейд: 5 Кол-во баллов: 28\n",
      "Александр -> грейд: 5 Кол-во баллов: 30\n",
      "Александр -> грейд: 5 Кол-во баллов: 32\n",
      "Александр -> грейд: 5 Кол-во баллов: 34\n",
      "Александр -> грейд: 6 Кол-во баллов: 36\n",
      "Александр -> грейд: 6 Кол-во баллов: 38\n",
      "Александр -> грейд: 6 Кол-во баллов: 40\n",
      "Александр -> грейд: 7 Кол-во баллов: 42\n",
      "Александр -> грейд: 7 Кол-во баллов: 44\n"
     ]
    }
   ],
   "source": [
    "class Employee:\n",
    "    def __init__(self, name, seniority):\n",
    "        self.name = name\n",
    "        self.seniority = seniority\n",
    "        \n",
    "        self.grade = 1\n",
    "    \n",
    "    def grade_up(self):\n",
    "        \"\"\"Повышает уровень сотрудника\"\"\"\n",
    "        self.grade += 1\n",
    "    \n",
    "    def publish_grade(self):\n",
    "        \"\"\"Публикация результатов аккредитации сотрудников\"\"\"\n",
    "        print(self.name, '-> грейд:', self.grade,'Кол-во баллов:', self.seniority)\n",
    "        # Скорректировал вывод для наглядности значений\n",
    "    \n",
    "    def check_if_it_is_time_for_upgrade(self):\n",
    "        pass\n",
    "\n",
    "# Создаю класс для дизайнеров\n",
    "class Designer(Employee):\n",
    "    # Задаю начальное кол-во баллов для дизайнера (с учетом 2 премий = 4 балла)\n",
    "    def __init__(self, name, seniority = 4): \n",
    "        super().__init__(name, seniority)\n",
    "    \n",
    "    def check_if_it_is_time_for_upgrade(self):\n",
    "        # для каждой премии увеличиваем счетчик на 2\n",
    "        self.seniority += 2\n",
    "        \n",
    "        # условие повышения дизайнера из задания\n",
    "        if self.seniority % 7 == 1 or self.seniority % 7 == 0:\n",
    "            self.grade_up()\n",
    "        \n",
    "        # публикация результатов\n",
    "        return self.publish_grade()\n",
    "    \n",
    "    \n",
    "alex = Designer('Александр')\n",
    "\n",
    "print(\"Вывод результата класса в цикле для наглядности\\n\")\n",
    "\n",
    "for i in range(20):\n",
    "    alex.check_if_it_is_time_for_upgrade()"
   ]
  }
 ],
 "metadata": {
  "kernelspec": {
   "display_name": "Python 3 (ipykernel)",
   "language": "python",
   "name": "python3"
  },
  "language_info": {
   "codemirror_mode": {
    "name": "ipython",
    "version": 3
   },
   "file_extension": ".py",
   "mimetype": "text/x-python",
   "name": "python",
   "nbconvert_exporter": "python",
   "pygments_lexer": "ipython3",
   "version": "3.9.7"
  }
 },
 "nbformat": 4,
 "nbformat_minor": 5
}
