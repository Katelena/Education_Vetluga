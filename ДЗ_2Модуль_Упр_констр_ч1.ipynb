{
 "cells": [
  {
   "cell_type": "code",
   "execution_count": null,
   "id": "7c00838e",
   "metadata": {},
   "outputs": [],
   "source": [
    "word = 'test'\n",
    "x = len(word) #считаем количество символов в строке\n",
    "if x % 2 == 0: # если делится на два, то количество символов четное\n",
    "    y = int(x / 2)\n",
    "    print(word[(y - 1) : (y + 1)]) # выводим на печать средние два символа\n",
    "else:\n",
    "    print(word[y]) # иначе выводим на печать один средний"
   ]
  },
  {
   "cell_type": "code",
   "execution_count": null,
   "id": "61ec61e9",
   "metadata": {},
   "outputs": [],
   "source": [
    "number = int(input('Введите число: '))\n",
    "list =[] # создаем пустой список\n",
    "while number != 0: # пока число не равно нулю, выполняем цикл\n",
    "    list.append(number) # добавляем число в созданный список\n",
    "    number = int(input('Введите число: '))\n",
    "print('Результат: ')\n",
    "print(sum(list)) # выводи на печать сумму чисел в списке"
   ]
  },
  {
   "cell_type": "code",
   "execution_count": null,
   "id": "a658361d",
   "metadata": {},
   "outputs": [],
   "source": [
    "boys = ['Peter', 'Alex', 'John', 'Arthur', 'Richard']\n",
    "girls = ['Kate', 'Liza', 'Kira', 'Emma', 'Trisha']\n",
    "boys.sort() # сортируем имена в алфавитном порядке\n",
    "girls.sort()\n",
    "a = zip(boys, girls) # объединяем два списка поэлементно\n",
    "b = list(a)\n",
    "i = 0\n",
    "if len(boys) == len(girls): # если количества парней и девушек совпадают\n",
    "    print('Идеальные пары:')\n",
    "    for name in boys:\n",
    "        name = boys[i] + ' ' + 'и' + ' ' + girls[i] # формируем внешний вид записи\n",
    "        print(name)\n",
    "        i+=1\n",
    "else:\n",
    "    print('Внимание, кто-то может остаться без пары!')"
   ]
  },
  {
   "cell_type": "code",
   "execution_count": null,
   "id": "211ef198",
   "metadata": {},
   "outputs": [],
   "source": [
    "countries_temperature = [\n",
    "['Thailand', [75.2, 77, 78.8, 73.4, 68, 75.2, 77]],\n",
    "['Germany', [57.2, 55.4, 59, 59, 53.6]],\n",
    "['Russia', [35.6, 37.4, 39.2, 41, 42.8, 39.2, 35.6]],\n",
    "['Poland', [50, 50, 53.6, 57.2, 55.4, 55.4]]\n",
    "]\n",
    "print('Средняя температура в странах:')\n",
    "i = 0\n",
    "for x in countries_temperature: # для каждой страны\n",
    "    x = sum(countries_temperature[i] [1]) / len(countries_temperature[i] [1]) # находим среднюю температуру\n",
    "    y = round((5 / 9 * (x - 32)),1) # переводим Фаренгейты в Цульсии\n",
    "    print(f\"{countries_temperature[i] [0]} - {y}C\")\n",
    "    i+=1"
   ]
  },
  {
   "cell_type": "code",
   "execution_count": null,
   "id": "648cf1e4",
   "metadata": {},
   "outputs": [],
   "source": [
    "stream = [\n",
    "'2018-01-01,user1,3',\n",
    "'2018-01-07,user1,4',\n",
    "'2018-03-29,user1,1',\n",
    "'2018-04-04,user1,13',\n",
    "'2018-01-05,user2,7',\n",
    "'2018-06-14,user3,4',\n",
    "'2018-07-02,user3,10',\n",
    "'2018-03-21,user4,19','2018-03-22,user4,4',\n",
    "'2018-04-22,user4,8',\n",
    "'2018-05-03,user4,9',\n",
    "'2018-05-11,user4,11',\n",
    "]\n",
    "stream_2 = [] # для выделения пользователей и количества просмотренных страниц создадим новый список\n",
    "a = 0\n",
    "for x in stream:\n",
    "    x = stream[a].split('r')\n",
    "    stream_2.append(x)\n",
    "    a+=1\n",
    "stream_3 = stream_2.copy() # удалим элементы с лишнй информацией\n",
    "b = 0\n",
    "while b <= len(stream) - 1:\n",
    "    del stream_3[b][0]\n",
    "    b+=1 \n",
    "user_pages = [] # переместим в отдельные элементы списоков пользователей и количество посещения страниц\n",
    "c = 0\n",
    "for y in stream_3:\n",
    "    y = stream_3[c]\n",
    "    y = ''.join(y)\n",
    "    y = y.split(',')\n",
    "    user_pages.append(y)\n",
    "    c+=1\n",
    "user = [] # переместим в отдельный список пользователей\n",
    "d = 0\n",
    "for z in user_pages:\n",
    "    z = user_pages[d][0]\n",
    "    user.append(z)\n",
    "    d+=1\n",
    "user_1 = set(user) # создадим уникальный набор пользователей\n",
    "user_2 = len(user_1) # посчитаем количество уникальных пользователей\n",
    "pages = [] # переместим в отдельный список количество посещаемых страниц\n",
    "e = 0\n",
    "for k in user_pages:\n",
    "    k = user_pages[e][1]\n",
    "    pages.append(int(k))\n",
    "    e+=1\n",
    "pages_2 = sum(pages) # посчитаем сумму посещаемых страниц\n",
    "result = round((pages_2 / user_2),2) # посчитаем результат: разделим сумму посещаемых страниц на количество уникальных пользователей\n",
    "print('Среднее количество просмотров на уникального пользователя: ', result)  "
   ]
  },
  {
   "cell_type": "code",
   "execution_count": null,
   "id": "2caea5e3",
   "metadata": {},
   "outputs": [],
   "source": [
    "print('Введите числа:')\n",
    "numbers = input() # создаем строку ввода\n",
    "numbers_2 = '' # создаем список\n",
    "i = 0\n",
    "for number in numbers: # для введенных чисел \n",
    "    if numbers.count(numbers[i]) > 1 and numbers[i] not in numbers_2: # если число вводилось больше одного раза и его нет в созданном списке\n",
    "        numbers_2 += number # добавляем его в созданный список\n",
    "    i += 1\n",
    "numbers_3 = sorted(numbers_2) # сортируем список от меньшего к большему\n",
    "numbers_4 = ' '.join(numbers_3)\n",
    "print('Результат:')\n",
    "print(numbers_4)"
   ]
  }
 ],
 "metadata": {
  "kernelspec": {
   "display_name": "Python 3 (ipykernel)",
   "language": "python",
   "name": "python3"
  },
  "language_info": {
   "codemirror_mode": {
    "name": "ipython",
    "version": 3
   },
   "file_extension": ".py",
   "mimetype": "text/x-python",
   "name": "python",
   "nbconvert_exporter": "python",
   "pygments_lexer": "ipython3",
   "version": "3.9.7"
  }
 },
 "nbformat": 4,
 "nbformat_minor": 5
}
